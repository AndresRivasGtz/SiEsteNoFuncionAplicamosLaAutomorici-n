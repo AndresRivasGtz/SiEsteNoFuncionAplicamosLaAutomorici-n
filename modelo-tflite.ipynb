{
 "cells": [
  {
   "cell_type": "code",
   "execution_count": null,
   "metadata": {},
   "outputs": [],
   "source": [
    "#https://www.youtube.com/watch?v=-ZyFYniGUsw"
   ]
  },
  {
   "cell_type": "code",
   "execution_count": 6,
   "metadata": {},
   "outputs": [
    {
     "name": "stderr",
     "output_type": "stream",
     "text": [
      "ERROR: Cannot install tflite-model-maker==0.1.2, tflite-model-maker==0.2.0, tflite-model-maker==0.2.1, tflite-model-maker==0.2.2, tflite-model-maker==0.2.3, tflite-model-maker==0.2.4, tflite-model-maker==0.2.5, tflite-model-maker==0.3.0, tflite-model-maker==0.3.1, tflite-model-maker==0.3.2, tflite-model-maker==0.3.3, tflite-model-maker==0.3.4, tflite-model-maker==0.4.0, tflite-model-maker==0.4.1 and tflite-model-maker==0.4.2 because these package versions have conflicting dependencies.\n",
      "ERROR: ResolutionImpossible: for help visit https://pip.pypa.io/en/latest/topics/dependency-resolution/#dealing-with-dependency-conflicts\n",
      "  error: subprocess-exited-with-error\n",
      "  \n",
      "  × Building wheel for tflite-support (pyproject.toml) did not run successfully.\n",
      "  │ exit code: 1\n",
      "  ╰─> [74 lines of output]\n",
      "      running bdist_wheel\n",
      "      running build\n",
      "      running build_py\n",
      "      creating build\n",
      "      creating build\\lib.win-amd64-cpython-310\n",
      "      creating build\\lib.win-amd64-cpython-310\\tflite_support\n",
      "      copying tflite_support\\codegen.py -> build\\lib.win-amd64-cpython-310\\tflite_support\n",
      "      copying tflite_support\\metadata.py -> build\\lib.win-amd64-cpython-310\\tflite_support\n",
      "      copying tflite_support\\metadata_schema_py_generated.py -> build\\lib.win-amd64-cpython-310\\tflite_support\n",
      "      copying tflite_support\\schema_py_generated.py -> build\\lib.win-amd64-cpython-310\\tflite_support\n",
      "      copying tflite_support\\__init__.py -> build\\lib.win-amd64-cpython-310\\tflite_support\n",
      "      running egg_info\n",
      "      writing tflite_support.egg-info\\PKG-INFO\n",
      "      writing dependency_links to tflite_support.egg-info\\dependency_links.txt\n",
      "      writing entry points to tflite_support.egg-info\\entry_points.txt\n",
      "      writing requirements to tflite_support.egg-info\\requires.txt\n",
      "      writing top-level names to tflite_support.egg-info\\top_level.txt\n",
      "      reading manifest file 'tflite_support.egg-info\\SOURCES.txt'\n",
      "      reading manifest template 'MANIFEST.in'\n",
      "      writing manifest file 'tflite_support.egg-info\\SOURCES.txt'\n",
      "      C:\\Users\\Andres Rvs\\AppData\\Local\\Temp\\pip-build-env-wo5fu70b\\overlay\\Lib\\site-packages\\setuptools\\command\\build_py.py:201: _Warning: Package 'tflite_support.flatbuffers' is absent from the `packages` configuration.\n",
      "      !!\n",
      "      \n",
      "              ********************************************************************************\n",
      "              ############################\n",
      "              # Package would be ignored #\n",
      "              ############################\n",
      "              Python recognizes 'tflite_support.flatbuffers' as an importable package[^1],\n",
      "              but it is absent from setuptools' `packages` configuration.\n",
      "      \n",
      "              This leads to an ambiguous overall configuration. If you want to distribute this\n",
      "              package, please make sure that 'tflite_support.flatbuffers' is explicitly added\n",
      "              to the `packages` configuration field.\n",
      "      \n",
      "              Alternatively, you can also rely on setuptools' discovery methods\n",
      "              (for example by using `find_namespace_packages(...)`/`find_namespace:`\n",
      "              instead of `find_packages(...)`/`find:`).\n",
      "      \n",
      "              You can read more about \"package discovery\" on setuptools documentation page:\n",
      "      \n",
      "              - https://setuptools.pypa.io/en/latest/userguide/package_discovery.html\n",
      "      \n",
      "              If you don't want 'tflite_support.flatbuffers' to be distributed and are\n",
      "              already explicitly excluding 'tflite_support.flatbuffers' via\n",
      "              `find_namespace_packages(...)/find_namespace` or `find_packages(...)/find`,\n",
      "              you can try to use `exclude_package_data`, or `include-package-data=False` in\n",
      "              combination with a more fine grained `package-data` configuration.\n",
      "      \n",
      "              You can read more about \"package data files\" on setuptools documentation page:\n",
      "      \n",
      "              - https://setuptools.pypa.io/en/latest/userguide/datafiles.html\n",
      "      \n",
      "      \n",
      "              [^1]: For Python, any directory (with suitable naming) can be imported,\n",
      "                    even if it does not contain any `.py` files.\n",
      "                    On the other hand, currently there is no concept of package data\n",
      "                    directory, all directories are treated like packages.\n",
      "              ********************************************************************************\n",
      "      \n",
      "      !!\n",
      "        check.warn(importable)\n",
      "      copying tflite_support\\metadata_schema.fbs -> build\\lib.win-amd64-cpython-310\\tflite_support\n",
      "      creating build\\lib.win-amd64-cpython-310\\tflite_support\\flatbuffers\n",
      "      copying tflite_support\\flatbuffers\\__init__.py -> build\\lib.win-amd64-cpython-310\\tflite_support\\flatbuffers\n",
      "      copying tflite_support\\flatbuffers\\builder.py -> build\\lib.win-amd64-cpython-310\\tflite_support\\flatbuffers\n",
      "      copying tflite_support\\flatbuffers\\compat.py -> build\\lib.win-amd64-cpython-310\\tflite_support\\flatbuffers\n",
      "      copying tflite_support\\flatbuffers\\encode.py -> build\\lib.win-amd64-cpython-310\\tflite_support\\flatbuffers\n",
      "      copying tflite_support\\flatbuffers\\number_types.py -> build\\lib.win-amd64-cpython-310\\tflite_support\\flatbuffers\n",
      "      copying tflite_support\\flatbuffers\\packer.py -> build\\lib.win-amd64-cpython-310\\tflite_support\\flatbuffers\n",
      "      copying tflite_support\\flatbuffers\\table.py -> build\\lib.win-amd64-cpython-310\\tflite_support\\flatbuffers\n",
      "      copying tflite_support\\flatbuffers\\util.py -> build\\lib.win-amd64-cpython-310\\tflite_support\\flatbuffers\n",
      "      running build_ext\n",
      "      building '_pywrap_codegen' extension\n",
      "      error: Microsoft Visual C++ 14.0 or greater is required. Get it with \"Microsoft C++ Build Tools\": https://visualstudio.microsoft.com/visual-cpp-build-tools/\n",
      "      [end of output]\n",
      "  \n",
      "  note: This error originates from a subprocess, and is likely not a problem with pip.\n",
      "  ERROR: Failed building wheel for tflite-support\n",
      "ERROR: Could not build wheels for tflite-support, which is required to install pyproject.toml-based projects\n"
     ]
    }
   ],
   "source": [
    "!pip install -q tflite-model-maker\n",
    "!pip install -q tflite-support"
   ]
  },
  {
   "cell_type": "code",
   "execution_count": 2,
   "metadata": {},
   "outputs": [
    {
     "ename": "ModuleNotFoundError",
     "evalue": "No module named 'numpy'",
     "output_type": "error",
     "traceback": [
      "\u001b[1;31m---------------------------------------------------------------------------\u001b[0m",
      "\u001b[1;31mModuleNotFoundError\u001b[0m                       Traceback (most recent call last)",
      "Cell \u001b[1;32mIn[2], line 1\u001b[0m\n\u001b[1;32m----> 1\u001b[0m \u001b[39mimport\u001b[39;00m \u001b[39mnumpy\u001b[39;00m \u001b[39mas\u001b[39;00m \u001b[39mnp\u001b[39;00m\n\u001b[0;32m      2\u001b[0m \u001b[39mimport\u001b[39;00m \u001b[39mos\u001b[39;00m\n\u001b[0;32m      4\u001b[0m \u001b[39mfrom\u001b[39;00m \u001b[39mtflite_model_maker\u001b[39;00m\u001b[39m.\u001b[39;00m\u001b[39mconfig\u001b[39;00m \u001b[39mimport\u001b[39;00m ExportFormat, QuantizationConfig\n",
      "\u001b[1;31mModuleNotFoundError\u001b[0m: No module named 'numpy'"
     ]
    }
   ],
   "source": [
    "import numpy as np\n",
    "import os\n",
    "\n",
    "from tflite_model_maker.config import ExportFormat, QuantizationConfig\n",
    "from tflite_model_maker import model_spec\n",
    "from tflite_model_maker import object_detector\n",
    "\n",
    "from tflite_support import metadata\n",
    "\n",
    "import tensorflow as tf\n",
    "assert tf.__version__.startswith('2')\n",
    "\n",
    "tf.get_logger().setLevel('ERROR')\n",
    "from absl import logging\n",
    "logging.set_verbosity(logging.ERROR)"
   ]
  }
 ],
 "metadata": {
  "kernelspec": {
   "display_name": ".venv",
   "language": "python",
   "name": "python3"
  },
  "language_info": {
   "codemirror_mode": {
    "name": "ipython",
    "version": 3
   },
   "file_extension": ".py",
   "mimetype": "text/x-python",
   "name": "python",
   "nbconvert_exporter": "python",
   "pygments_lexer": "ipython3",
   "version": "3.10.11"
  },
  "orig_nbformat": 4
 },
 "nbformat": 4,
 "nbformat_minor": 2
}
